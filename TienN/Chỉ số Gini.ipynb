{
 "cells": [
  {
   "cell_type": "markdown",
   "metadata": {},
   "source": [
    "# Chỉ số Gini"
   ]
  },
  {
   "cell_type": "markdown",
   "metadata": {},
   "source": [
    "## Nội dung\n",
    "1. Chỉ số Gini là gì ?\n",
    "2. Bản chất của chỉ số Gini.\n",
    "3. Những nhân tố ảnh hưởng\n",
    "4. Một số ví dụ\n",
    "\n",
    "----"
   ]
  },
  {
   "cell_type": "markdown",
   "metadata": {},
   "source": [
    "## 1. Chỉ số Gini là gì ?"
   ]
  },
  {
   "cell_type": "markdown",
   "metadata": {},
   "source": [
    "*The Gini index or Gini coefficient is a statistical measure of distribution developed by the Italian statistician Corrado Gini in 1912. It is often used as a gauge of economic inequality, measuring income distribution or, less commonly, wealth distribution among a population. The coefficient ranges from 0 (or 0%) to 1 (or 100%), with 0 representing perfect equality and 1 representing perfect inequality. Values over 1 are theoretically possible due to negative income or wealth.*"
   ]
  },
  {
   "cell_type": "markdown",
   "metadata": {},
   "source": [
    "Chỉ số Gini hoặc hệ số Gini là thước đo phân phối thống kê được phát triển bởi nhà thống kê người Ý Corrado Gini vào năm 1912. Nó thường được sử dụng như một thước đo bất bình đẳng kinh tế, đo lường phân phối thu nhập hoặc, ít phổ biến hơn, phân bổ tài sản trong dân số. Hệ số này nằm trong đoạn $[0, 1]$, với giá trị 0 biểu diễn một bình đẳng hoàn hảo và 1 biểu diễn cho bất bình đẳng hoàn hảo. Ngoài ra, chỉ số Gini có thể vượt qua 1 (về mặt lý thuyết) vì thu nhập âm hoặc là sự giàu có."
   ]
  },
  {
   "cell_type": "markdown",
   "metadata": {},
   "source": [
    "### Ghi nhớ"
   ]
  },
  {
   "cell_type": "markdown",
   "metadata": {},
   "source": [
    "- The Gini index is a simple measure of the distribution of income across income percentiles in a population.\n",
    "- A higher Gini index indicates greater inequality, with high income individuals receiving much larger percentages of the total income of the population.\n",
    "- Global inequality as measured by the Gini index increased over the 19th and 20th centuries, but has declined in more recent years.\n",
    "- Because of data and other limitations, the Gini index may overstate income inequality and can obscure important information about income distribution."
   ]
  },
  {
   "cell_type": "markdown",
   "metadata": {},
   "source": [
    "- Chỉ số Gini là một thước đo đơn giản của phân phối thu nhập dựa trên phần trăm thu nhập trong một vùng kinh tế, một đất nước.\n",
    "- Chỉ số Gini cao hơn cho thấy sự bất bình đẳng lớn hơn, với các cá nhân có thu nhập cao nhận được tỷ lệ phần trăm lớn hơn nhiều trong tổng thu nhập của dân số.\n",
    "- Bất bình đẳng toàn cầu được đo bằng chỉ số Gini đã tăng lên trong thế kỷ 19 và 20, nhưng đã giảm trong những năm gần đây.\n",
    "- **Do dữ liệu và các hạn chế khác, chỉ số Gini có thể vượt quá bất bình đẳng thu nhập và có thể che khuất thông tin quan trọng về phân phối thu nhập.**"
   ]
  },
  {
   "cell_type": "markdown",
   "metadata": {},
   "source": [
    "## 2. Bản chất của chỉ số Gini"
   ]
  },
  {
   "cell_type": "markdown",
   "metadata": {},
   "source": [
    "### Công thức hệ số Gini"
   ]
  },
  {
   "cell_type": "markdown",
   "metadata": {},
   "source": []
  },
  {
   "cell_type": "markdown",
   "metadata": {},
   "source": [
    "### Bản chất"
   ]
  },
  {
   "cell_type": "markdown",
   "metadata": {},
   "source": [
    "- Một quốc gia mà **mỗi công dân có thu nhập như nhau** thì sẽ có **hệ số Gini bằng 0**. Ngược lại, quốc gia nào mà chỉ có **một người tạo ra thu nhập và thu nhập đó là toàn bộ thu nhập của quốc gia đó, trong khi những người khác thì không làm ra một thu nhập nào** thì **hệ số Gini bằng 1**.\n",
    "\n",
    "- Phân tích tương tự có thể được áp dụng cho phân phối của cải (\"hệ số Gini của cải\"), nhưng vì **sự giàu có khó đo lường hơn thu nhập, nên các hệ số Gini thường đề cập đến thu nhập** và xuất hiện đơn giản là \"hệ số Gini\" hoặc \"chỉ số Gini\" xác định rằng họ đề cập đến thu nhập. *Hệ số Wealth Gini có xu hướng cao hơn nhiều so với thu nhập.*\n",
    "\n",
    "- **Hệ số Gini là một công cụ quan trọng để phân tích thu nhập hoặc phân phối của cải trong một quốc gia hoặc khu vực, nhưng không nên nhầm lẫn với một phép đo tuyệt đối về thu nhập hoặc của cải.** Một quốc gia có thu nhập cao và thu nhập thấp có thể có cùng hệ số Gini, miễn là thu nhập được phân phối tương tự nhau: *Thổ Nhĩ Kỳ và Mỹ đều có hệ số Gini thu nhập khoảng 0,39-0,40 trong năm 2016, theo OECD, mặc dù GDP của mỗi người Thổ Nhĩ Kỳ thấp hơn một nửa so với Mỹ (tính theo đồng đô la 2010).*"
   ]
  },
  {
   "cell_type": "markdown",
   "metadata": {},
   "source": [
    "### Đồ thị biểu diễn chỉ số Gini và đường cong Lorenz"
   ]
  },
  {
   "cell_type": "markdown",
   "metadata": {},
   "source": [
    "The Gini index is often represented graphically through the Lorenz curve, which shows income (or wealth) distribution by plotting the population percentile by income on the horizontal axis and cumulative income on the vertical axis. The Gini coefficient is equal to the area below the line of perfect equality (0.5 by definition) minus the area below the Lorenz curve, divided by the area below the line of perfect equality. In other words, it is double the area between the Lorenz curve and the line of perfect equality.\n",
    "\n",
    "\n",
    "In the graph below, the 47th percentile corresponds to 10.46% in Haiti and 17.42% in Bolivia, meaning that the bottom 47% of Haitians take in 10.46% of their nation's total income and the bottom 47% of Bolivians take in 17.42% of theirs. The straight line represents a hypothetically equal society: the bottom 47% take in 47% of national income. \n",
    "\n",
    "- Chỉ số Gini thường được biểu thị trên đồ thị thông qua đường cong Lorenz, biểu thị phân phối thu nhập (hoặc của cải) bằng cách vẽ tỷ lệ phần trăm dân số theo thu nhập trên trục hoành và thu nhập tích lũy trên trục tung. \n",
    "\n",
    "- *Hệ số Gini bằng với diện tích bên dưới đường đẳng thức hoàn hảo (0,5 theo định nghĩa) trừ đi diện tích bên dưới đường cong Lorenz, chia cho khu vực bên dưới đường đẳng thức hoàn hảo. Nói cách khác, nó gấp đôi diện tích giữa đường cong Lorenz và đường đẳng thức hoàn hảo.*"
   ]
  },
  {
   "cell_type": "markdown",
   "metadata": {},
   "source": [
    "- Trong biểu đồ dưới đây, phân vị thứ 47 tương ứng với 10,46% ở Haiti và 17,42% ở Bolivia, nghĩa là 47% người Haiti dưới đây chiếm 10,46% tổng thu nhập của quốc gia họ và 47% người Bolero dưới đây chiếm 17,42% . Đường thẳng đại diện cho một xã hội bình đẳng giả định: 47% dưới cùng chiếm 47% thu nhập quốc dân.\n",
    "\n",
    "![Lorenz cureve](images/lorenz_curve.png)"
   ]
  },
  {
   "cell_type": "markdown",
   "metadata": {},
   "source": [
    "To estimate the income Gini coefficient for Haiti in 2012, we would find the area below its Lorenz curve: around 0.2. Subtracting that figure from 0.5 (the area under the line of equality), we get 0.3, which we then divide by 0.5. This yields an approximate Gini of 0.6 or 60%. The CIA gives the actual Gini for Haiti in 2012 as 60.8% (see below). This figure represents extremely high inequality; only Micronesia, the Central African Republic, South Africa, and Lesotho are more unequal, according to the CIA.\n",
    "\n",
    "Another way of thinking about the Gini coefficient is as a measure of deviation from perfect equality. The further a Lorenz curve deviates from the perfectly equal straight line (which represents a Gini coefficient of 0), the higher the Gini coefficient and the less equal the society. In the example above, Haiti is more unequal than Bolivia.\n",
    "\n",
    "Để ước tính chỉ số thu nhập Gini cho Haiti trong năm 2012, chúng ta tìm diện tích nằm bên dưới đường cong Lorenz: khoảng 0.2, sau đó lấy 0.5 trừ cho 0.2 ta được 0.3, rồi tiếp tục chia cho 0.5. "
   ]
  },
  {
   "cell_type": "markdown",
   "metadata": {},
   "source": []
  },
  {
   "cell_type": "markdown",
   "metadata": {},
   "source": []
  },
  {
   "cell_type": "markdown",
   "metadata": {},
   "source": [
    "## 3. Những nhân tố ảnh hưởng"
   ]
  },
  {
   "cell_type": "markdown",
   "metadata": {},
   "source": []
  },
  {
   "cell_type": "markdown",
   "metadata": {},
   "source": []
  },
  {
   "cell_type": "markdown",
   "metadata": {},
   "source": [
    "## 4. Một số ví dụ"
   ]
  },
  {
   "cell_type": "markdown",
   "metadata": {},
   "source": []
  },
  {
   "cell_type": "markdown",
   "metadata": {},
   "source": []
  },
  {
   "cell_type": "markdown",
   "metadata": {},
   "source": []
  },
  {
   "cell_type": "markdown",
   "metadata": {},
   "source": [
    "### Tham khảo"
   ]
  },
  {
   "cell_type": "markdown",
   "metadata": {},
   "source": [
    "[Gini Index Definition](https://www.investopedia.com/terms/g/gini-index.asp)"
   ]
  },
  {
   "cell_type": "markdown",
   "metadata": {},
   "source": [
    "[Calculate the Gini coefficient](http://www3.nccu.edu.tw/~jthuang/Gini.pdf)"
   ]
  },
  {
   "cell_type": "markdown",
   "metadata": {},
   "source": [
    "[Gini Coefficient and Lorenz Curve](https://www.khanacademy.org/economics-finance-domain/ap-microeconomics/ap-consumer-producer-surplus/inequality/v/gini-coefficient-and-lorenz-curve)"
   ]
  },
  {
   "cell_type": "markdown",
   "metadata": {},
   "source": [
    "[Measuring Inequality: Forget Gini, Go With Palma ](https://www.statsdirect.com/help/nonparametric_methods/gini_coefficient.htm)"
   ]
  },
  {
   "cell_type": "markdown",
   "metadata": {},
   "source": [
    "[Bài 22. Scorecard model](https://phamdinhkhanh.github.io/2020/01/17/ScoreCard.html?fbclid=IwAR2OT8ZJR_3HHU0ULYXDn6ygzoy3LNbiS6mBZHZJNBIYe4ZoYQd8xL_jG24)"
   ]
  },
  {
   "cell_type": "markdown",
   "metadata": {},
   "source": [
    "[Lorenz Curve - Slideshare](https://www.slideshare.net/kunegis/why-beyonc-is-more-popular-than-me-fairness-diversity-and-other-measures/4-1_The_Pareto_Principle20_of)"
   ]
  }
 ],
 "metadata": {
  "kernelspec": {
   "display_name": "Python 3",
   "language": "python",
   "name": "python3"
  },
  "language_info": {
   "codemirror_mode": {
    "name": "ipython",
    "version": 3
   },
   "file_extension": ".py",
   "mimetype": "text/x-python",
   "name": "python",
   "nbconvert_exporter": "python",
   "pygments_lexer": "ipython3",
   "version": "3.7.5"
  },
  "latex_envs": {
   "LaTeX_envs_menu_present": true,
   "autoclose": false,
   "autocomplete": true,
   "bibliofile": "biblio.bib",
   "cite_by": "apalike",
   "current_citInitial": 1,
   "eqLabelWithNumbers": true,
   "eqNumInitial": 1,
   "hotkeys": {
    "equation": "Ctrl-E",
    "itemize": "Ctrl-I"
   },
   "labels_anchors": false,
   "latex_user_defs": false,
   "report_style_numbering": false,
   "user_envs_cfg": false
  },
  "toc": {
   "base_numbering": 1,
   "nav_menu": {},
   "number_sections": false,
   "sideBar": true,
   "skip_h1_title": true,
   "title_cell": "Table of Contents",
   "title_sidebar": "Contents",
   "toc_cell": false,
   "toc_position": {
    "height": "calc(100% - 180px)",
    "left": "10px",
    "top": "150px",
    "width": "191px"
   },
   "toc_section_display": true,
   "toc_window_display": true
  }
 },
 "nbformat": 4,
 "nbformat_minor": 2
}
